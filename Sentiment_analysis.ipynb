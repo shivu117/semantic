{
  "nbformat": 4,
  "nbformat_minor": 0,
  "metadata": {
    "colab": {
      "name": "Sentiment_analysis.ipynb",
      "provenance": [],
      "authorship_tag": "ABX9TyPlmxOHJaSR6U9BHVqLriYd",
      "include_colab_link": true
    },
    "kernelspec": {
      "name": "python3",
      "display_name": "Python 3"
    },
    "accelerator": "GPU"
  },
  "cells": [
    {
      "cell_type": "markdown",
      "metadata": {
        "id": "view-in-github",
        "colab_type": "text"
      },
      "source": [
        "<a href=\"https://colab.research.google.com/github/shivu117/semantic/blob/main/Sentiment_analysis.ipynb\" target=\"_parent\"><img src=\"https://colab.research.google.com/assets/colab-badge.svg\" alt=\"Open In Colab\"/></a>"
      ]
    },
    {
      "cell_type": "code",
      "metadata": {
        "id": "iMX5TS2zk5u6"
      },
      "source": [
        "from google.colab import drive"
      ],
      "execution_count": 1,
      "outputs": []
    },
    {
      "cell_type": "code",
      "metadata": {
        "colab": {
          "base_uri": "https://localhost:8080/"
        },
        "id": "hC5rQcgOoxtl",
        "outputId": "0d875d7c-f2b4-4eef-e141-832c0f8bbb34"
      },
      "source": [
        "drive.mount('/content/gdrive/',force_remount=True)"
      ],
      "execution_count": 2,
      "outputs": [
        {
          "output_type": "stream",
          "text": [
            "Mounted at /content/gdrive/\n"
          ],
          "name": "stdout"
        }
      ]
    },
    {
      "cell_type": "code",
      "metadata": {
        "id": "0JUID4Zbo2L6"
      },
      "source": [
        "path = '/content/gdrive/My Drive/sentiment/'"
      ],
      "execution_count": 3,
      "outputs": []
    },
    {
      "cell_type": "code",
      "metadata": {
        "id": "90NV5mSkpBIL"
      },
      "source": [
        "import pandas as pd\r\n",
        "import numpy as np\r\n",
        "import matplotlib.pyplot as plt\r\n",
        "import tensorflow as tf\r\n",
        "\r\n",
        "from gensim.models import Word2Vec"
      ],
      "execution_count": 4,
      "outputs": []
    },
    {
      "cell_type": "code",
      "metadata": {
        "id": "o9HNYIwTpH7j"
      },
      "source": [
        "data = pd.read_csv(path+'airline_sentiment_analysis.csv')"
      ],
      "execution_count": 5,
      "outputs": []
    },
    {
      "cell_type": "code",
      "metadata": {
        "colab": {
          "base_uri": "https://localhost:8080/",
          "height": 204
        },
        "id": "yFrlY7WUpSGI",
        "outputId": "555bc1c9-a5bc-429f-b753-91fce8d15ddf"
      },
      "source": [
        "data.head()"
      ],
      "execution_count": 6,
      "outputs": [
        {
          "output_type": "execute_result",
          "data": {
            "text/html": [
              "<div>\n",
              "<style scoped>\n",
              "    .dataframe tbody tr th:only-of-type {\n",
              "        vertical-align: middle;\n",
              "    }\n",
              "\n",
              "    .dataframe tbody tr th {\n",
              "        vertical-align: top;\n",
              "    }\n",
              "\n",
              "    .dataframe thead th {\n",
              "        text-align: right;\n",
              "    }\n",
              "</style>\n",
              "<table border=\"1\" class=\"dataframe\">\n",
              "  <thead>\n",
              "    <tr style=\"text-align: right;\">\n",
              "      <th></th>\n",
              "      <th>Unnamed: 0</th>\n",
              "      <th>airline_sentiment</th>\n",
              "      <th>text</th>\n",
              "    </tr>\n",
              "  </thead>\n",
              "  <tbody>\n",
              "    <tr>\n",
              "      <th>0</th>\n",
              "      <td>1</td>\n",
              "      <td>positive</td>\n",
              "      <td>@VirginAmerica plus you've added commercials t...</td>\n",
              "    </tr>\n",
              "    <tr>\n",
              "      <th>1</th>\n",
              "      <td>3</td>\n",
              "      <td>negative</td>\n",
              "      <td>@VirginAmerica it's really aggressive to blast...</td>\n",
              "    </tr>\n",
              "    <tr>\n",
              "      <th>2</th>\n",
              "      <td>4</td>\n",
              "      <td>negative</td>\n",
              "      <td>@VirginAmerica and it's a really big bad thing...</td>\n",
              "    </tr>\n",
              "    <tr>\n",
              "      <th>3</th>\n",
              "      <td>5</td>\n",
              "      <td>negative</td>\n",
              "      <td>@VirginAmerica seriously would pay $30 a fligh...</td>\n",
              "    </tr>\n",
              "    <tr>\n",
              "      <th>4</th>\n",
              "      <td>6</td>\n",
              "      <td>positive</td>\n",
              "      <td>@VirginAmerica yes, nearly every time I fly VX...</td>\n",
              "    </tr>\n",
              "  </tbody>\n",
              "</table>\n",
              "</div>"
            ],
            "text/plain": [
              "   Unnamed: 0  ...                                               text\n",
              "0           1  ...  @VirginAmerica plus you've added commercials t...\n",
              "1           3  ...  @VirginAmerica it's really aggressive to blast...\n",
              "2           4  ...  @VirginAmerica and it's a really big bad thing...\n",
              "3           5  ...  @VirginAmerica seriously would pay $30 a fligh...\n",
              "4           6  ...  @VirginAmerica yes, nearly every time I fly VX...\n",
              "\n",
              "[5 rows x 3 columns]"
            ]
          },
          "metadata": {
            "tags": []
          },
          "execution_count": 6
        }
      ]
    },
    {
      "cell_type": "code",
      "metadata": {
        "id": "7XoBAJGBpTrk"
      },
      "source": [
        "X = data['text'].values"
      ],
      "execution_count": 7,
      "outputs": []
    },
    {
      "cell_type": "code",
      "metadata": {
        "id": "EFPDzS_opYCr"
      },
      "source": [
        "data['airline_sentiment'].values [ data['airline_sentiment']=='positive'] = 1"
      ],
      "execution_count": 8,
      "outputs": []
    },
    {
      "cell_type": "code",
      "metadata": {
        "id": "ivaQLvB6qT4P"
      },
      "source": [
        "data['airline_sentiment'].values [ data['airline_sentiment']=='negative'] = 0"
      ],
      "execution_count": 9,
      "outputs": []
    },
    {
      "cell_type": "code",
      "metadata": {
        "id": "Y0avQb9QrBCo"
      },
      "source": [
        "Y = data['airline_sentiment'].values"
      ],
      "execution_count": 10,
      "outputs": []
    },
    {
      "cell_type": "code",
      "metadata": {
        "id": "hWTtPYwWrKBz"
      },
      "source": [
        "Y  = np.array(Y,dtype='int32')"
      ],
      "execution_count": 11,
      "outputs": []
    },
    {
      "cell_type": "code",
      "metadata": {
        "colab": {
          "base_uri": "https://localhost:8080/"
        },
        "id": "oaUqxZceGmQe",
        "outputId": "e3de4cb6-3ed5-4d47-c1ab-471017cd63c6"
      },
      "source": [
        "Y.shape"
      ],
      "execution_count": 12,
      "outputs": [
        {
          "output_type": "execute_result",
          "data": {
            "text/plain": [
              "(11541,)"
            ]
          },
          "metadata": {
            "tags": []
          },
          "execution_count": 12
        }
      ]
    },
    {
      "cell_type": "code",
      "metadata": {
        "colab": {
          "base_uri": "https://localhost:8080/"
        },
        "id": "mB7A__xiGoAS",
        "outputId": "f2d71114-acbf-4a84-f48e-1527eaec6698"
      },
      "source": [
        "Y.dtype"
      ],
      "execution_count": 13,
      "outputs": [
        {
          "output_type": "execute_result",
          "data": {
            "text/plain": [
              "dtype('int32')"
            ]
          },
          "metadata": {
            "tags": []
          },
          "execution_count": 13
        }
      ]
    },
    {
      "cell_type": "code",
      "metadata": {
        "colab": {
          "base_uri": "https://localhost:8080/"
        },
        "id": "yUnXWzGMrM6Q",
        "outputId": "3f238996-52d0-430b-a7be-958f48967885"
      },
      "source": [
        "X.shape"
      ],
      "execution_count": 14,
      "outputs": [
        {
          "output_type": "execute_result",
          "data": {
            "text/plain": [
              "(11541,)"
            ]
          },
          "metadata": {
            "tags": []
          },
          "execution_count": 14
        }
      ]
    },
    {
      "cell_type": "code",
      "metadata": {
        "colab": {
          "base_uri": "https://localhost:8080/",
          "height": 35
        },
        "id": "aW414h86XE_g",
        "outputId": "1ec46e93-3cce-46d0-c11c-da20f01b57f6"
      },
      "source": [
        "X[0]"
      ],
      "execution_count": 15,
      "outputs": [
        {
          "output_type": "execute_result",
          "data": {
            "application/vnd.google.colaboratory.intrinsic+json": {
              "type": "string"
            },
            "text/plain": [
              "\"@VirginAmerica plus you've added commercials to the experience... tacky.\""
            ]
          },
          "metadata": {
            "tags": []
          },
          "execution_count": 15
        }
      ]
    },
    {
      "cell_type": "code",
      "metadata": {
        "id": "7YEY3ib1tZgl"
      },
      "source": [
        "def word_to_num(dat):\r\n",
        "  vocab = []\r\n",
        "  for i in range(len(dat)):\r\n",
        "    dat[i] = '<BOS> '+ dat[i] +' <EOS>'\r\n",
        "    vocab = list(set( vocab + list(set(dat[i].split())) ) )  \r\n",
        "  vocab+= ' '    \r\n",
        "  temp1 = []  \r\n",
        "  for i in dat:\r\n",
        "    temp = []\r\n",
        "    for j in i.split():\r\n",
        "      temp.append( vocab.index(j))\r\n",
        "    temp1.append(temp)\r\n",
        "\r\n",
        "  return np.array(temp1),np.array(vocab)    "
      ],
      "execution_count": 16,
      "outputs": []
    },
    {
      "cell_type": "code",
      "metadata": {
        "colab": {
          "base_uri": "https://localhost:8080/"
        },
        "id": "8LEBoAfFU3rf",
        "outputId": "ba60633c-f194-4358-fe8b-1f4f9ab970c9"
      },
      "source": [
        "X_data,vocab = word_to_num(X)"
      ],
      "execution_count": 17,
      "outputs": [
        {
          "output_type": "stream",
          "text": [
            "/usr/local/lib/python3.6/dist-packages/ipykernel_launcher.py:14: VisibleDeprecationWarning: Creating an ndarray from ragged nested sequences (which is a list-or-tuple of lists-or-tuples-or ndarrays with different lengths or shapes) is deprecated. If you meant to do this, you must specify 'dtype=object' when creating the ndarray\n",
            "  \n"
          ],
          "name": "stderr"
        }
      ]
    },
    {
      "cell_type": "code",
      "metadata": {
        "colab": {
          "base_uri": "https://localhost:8080/"
        },
        "id": "jpqtPgJ0GGqL",
        "outputId": "a2cbdb4e-2610-43bf-828d-3015950d233b"
      },
      "source": [
        "X_data.shape"
      ],
      "execution_count": 18,
      "outputs": [
        {
          "output_type": "execute_result",
          "data": {
            "text/plain": [
              "(11541,)"
            ]
          },
          "metadata": {
            "tags": []
          },
          "execution_count": 18
        }
      ]
    },
    {
      "cell_type": "code",
      "metadata": {
        "colab": {
          "base_uri": "https://localhost:8080/"
        },
        "id": "Bu4rJumoVDza",
        "outputId": "f0bc1156-2c17-40bf-fc53-2cc5cd14b316"
      },
      "source": [
        "X_data[0],vocab[:10]"
      ],
      "execution_count": 19,
      "outputs": [
        {
          "output_type": "execute_result",
          "data": {
            "text/plain": [
              "([16419, 2720, 11628, 6974, 5034, 14068, 12692, 8457, 8795, 1870, 23791],\n",
              " array(['Doubt', '49min', 'affiliated.', 'screws', 'MSY.',\n",
              "        'will...sunday!', '\"sincere\"', 'soooo', 'issue?', '#lost'],\n",
              "       dtype='<U53'))"
            ]
          },
          "metadata": {
            "tags": []
          },
          "execution_count": 19
        }
      ]
    },
    {
      "cell_type": "code",
      "metadata": {
        "colab": {
          "base_uri": "https://localhost:8080/",
          "height": 35
        },
        "id": "67fC03rHWCIR",
        "outputId": "29491a74-e356-44bd-96f0-b8671ff8a960"
      },
      "source": [
        "X[100]"
      ],
      "execution_count": 20,
      "outputs": [
        {
          "output_type": "execute_result",
          "data": {
            "application/vnd.google.colaboratory.intrinsic+json": {
              "type": "string"
            },
            "text/plain": [
              "\"<BOS> .@VirginAmerica I don't understand why you need a DM to give me an answer on if you have a damaged luggage policy. <EOS>\""
            ]
          },
          "metadata": {
            "tags": []
          },
          "execution_count": 20
        }
      ]
    },
    {
      "cell_type": "code",
      "metadata": {
        "colab": {
          "base_uri": "https://localhost:8080/"
        },
        "id": "lwk9uBPzVHLF",
        "outputId": "9e54f7f4-ee73-470c-c179-8aeda9acc9e1"
      },
      "source": [
        "vocab[X_data[100]]"
      ],
      "execution_count": 21,
      "outputs": [
        {
          "output_type": "execute_result",
          "data": {
            "text/plain": [
              "array(['<BOS>', '.@VirginAmerica', 'I', \"don't\", 'understand', 'why',\n",
              "       'you', 'need', 'a', 'DM', 'to', 'give', 'me', 'an', 'answer', 'on',\n",
              "       'if', 'you', 'have', 'a', 'damaged', 'luggage', 'policy.', '<EOS>'],\n",
              "      dtype='<U53')"
            ]
          },
          "metadata": {
            "tags": []
          },
          "execution_count": 21
        }
      ]
    },
    {
      "cell_type": "code",
      "metadata": {
        "id": "pfAIJM_KZKx0"
      },
      "source": [
        "X_train = tf.keras.preprocessing.sequence.pad_sequences(X_data,padding='post',truncating='post',value=np.where(vocab==' ') )"
      ],
      "execution_count": 22,
      "outputs": []
    },
    {
      "cell_type": "code",
      "metadata": {
        "colab": {
          "base_uri": "https://localhost:8080/"
        },
        "id": "5ao6Ptn3aAxo",
        "outputId": "e62b99ed-8ee0-4906-e181-a8e031f1bdc1"
      },
      "source": [
        "X_train.shape"
      ],
      "execution_count": 23,
      "outputs": [
        {
          "output_type": "execute_result",
          "data": {
            "text/plain": [
              "(11541, 38)"
            ]
          },
          "metadata": {
            "tags": []
          },
          "execution_count": 23
        }
      ]
    },
    {
      "cell_type": "code",
      "metadata": {
        "colab": {
          "base_uri": "https://localhost:8080/"
        },
        "id": "JXpVi_VSaFOW",
        "outputId": "05a99868-aacc-4365-ce18-48fdaa89c876"
      },
      "source": [
        "vocab[X_train[0]]"
      ],
      "execution_count": 24,
      "outputs": [
        {
          "output_type": "execute_result",
          "data": {
            "text/plain": [
              "array(['<BOS>', '@VirginAmerica', 'plus', \"you've\", 'added',\n",
              "       'commercials', 'to', 'the', 'experience...', 'tacky.', '<EOS>',\n",
              "       ' ', ' ', ' ', ' ', ' ', ' ', ' ', ' ', ' ', ' ', ' ', ' ', ' ',\n",
              "       ' ', ' ', ' ', ' ', ' ', ' ', ' ', ' ', ' ', ' ', ' ', ' ', ' ',\n",
              "       ' '], dtype='<U53')"
            ]
          },
          "metadata": {
            "tags": []
          },
          "execution_count": 24
        }
      ]
    },
    {
      "cell_type": "code",
      "metadata": {
        "id": "B_9Q7OCxaZe-"
      },
      "source": [
        "def create_embed(vocabs):\r\n",
        "     word2vec = Word2Vec(vocabs,size=300)\r\n",
        "     embeddings = np.random.randn(len(vocabs),300)\r\n",
        "     for i in range(len(vocabs)):\r\n",
        "       if vocabs[i] in word2vec.wv.vocab:\r\n",
        "         embeddings[i] = word2vec.wv.word_vec(vocabs[i])\r\n",
        "     return embeddings    \r\n"
      ],
      "execution_count": 25,
      "outputs": []
    },
    {
      "cell_type": "code",
      "metadata": {
        "id": "YpubdjadaxOo"
      },
      "source": [
        "embeddings = create_embed(vocab)"
      ],
      "execution_count": 26,
      "outputs": []
    },
    {
      "cell_type": "code",
      "metadata": {
        "colab": {
          "base_uri": "https://localhost:8080/"
        },
        "id": "yLBG2KfMa1X5",
        "outputId": "2cfa4451-5c12-438e-f561-c42f0e529ee5"
      },
      "source": [
        "embeddings.shape"
      ],
      "execution_count": 27,
      "outputs": [
        {
          "output_type": "execute_result",
          "data": {
            "text/plain": [
              "(25317, 300)"
            ]
          },
          "metadata": {
            "tags": []
          },
          "execution_count": 27
        }
      ]
    },
    {
      "cell_type": "code",
      "metadata": {
        "id": "26L89xqSa-M5"
      },
      "source": [
        "def stack_LSTM_model(dt1,embeddings=embeddings,batch_size=16):\r\n",
        "  layer2_1 = tf.keras.layers.Embedding(embeddings.shape[0],embeddings.shape[1],weights=[embeddings],batch_input_shape=[batch_size,None],trainable =False)\r\n",
        "\r\n",
        "  layer2 = tf.keras.layers.LSTM(512, return_sequences=True, recurrent_initializer='glorot_uniform',recurrent_activation='sigmoid',stateful=True)\r\n",
        "  layer3 = tf.keras.layers.LSTM(512, return_sequences=True, recurrent_initializer='glorot_uniform',recurrent_activation='sigmoid',stateful=True)\r\n",
        "  layer4 = tf.keras.layers.Dense(150,activation = 'sigmoid')\r\n",
        "  layer5 = tf.keras.layers.Dense(1,activation = 'sigmoid')\r\n",
        "  \r\n",
        "  layer1 = tf.keras.Input(shape=(None,),batch_size=batch_size)\r\n",
        "\r\n",
        "  out1 = layer2_1(layer1)\r\n",
        "  out1 = layer2(out1)\r\n",
        "  out2 = layer3(out1)\r\n",
        "\r\n",
        "  out3 = tf.keras.layers.GlobalMaxPooling1D()(out2)\r\n",
        "\r\n",
        "  out3 = layer4(out3)\r\n",
        "\r\n",
        "  out4 = layer5(out3)\r\n",
        "  return tf.keras.models.Model(inputs=layer1,outputs=out4)\r\n",
        "\r\n",
        "\r\n"
      ],
      "execution_count": 28,
      "outputs": []
    },
    {
      "cell_type": "code",
      "metadata": {
        "id": "JdABNwl_cT8_"
      },
      "source": [
        "model = stack_LSTM_model(X_train[:150])"
      ],
      "execution_count": 29,
      "outputs": []
    },
    {
      "cell_type": "code",
      "metadata": {
        "colab": {
          "base_uri": "https://localhost:8080/"
        },
        "id": "GVcL5JbHc5q0",
        "outputId": "58734017-d721-4417-ebdc-e7a5e3adf041"
      },
      "source": [
        "model.summary()"
      ],
      "execution_count": 30,
      "outputs": [
        {
          "output_type": "stream",
          "text": [
            "Model: \"model\"\n",
            "_________________________________________________________________\n",
            "Layer (type)                 Output Shape              Param #   \n",
            "=================================================================\n",
            "input_1 (InputLayer)         [(16, None)]              0         \n",
            "_________________________________________________________________\n",
            "embedding (Embedding)        (16, None, 300)           7595100   \n",
            "_________________________________________________________________\n",
            "lstm (LSTM)                  (16, None, 512)           1665024   \n",
            "_________________________________________________________________\n",
            "lstm_1 (LSTM)                (16, None, 512)           2099200   \n",
            "_________________________________________________________________\n",
            "global_max_pooling1d (Global (16, 512)                 0         \n",
            "_________________________________________________________________\n",
            "dense (Dense)                (16, 150)                 76950     \n",
            "_________________________________________________________________\n",
            "dense_1 (Dense)              (16, 1)                   151       \n",
            "=================================================================\n",
            "Total params: 11,436,425\n",
            "Trainable params: 3,841,325\n",
            "Non-trainable params: 7,595,100\n",
            "_________________________________________________________________\n"
          ],
          "name": "stdout"
        }
      ]
    },
    {
      "cell_type": "code",
      "metadata": {
        "id": "iVtuaMu5cdRB"
      },
      "source": [
        "model.compile('adam','binary_crossentropy','accuracy')"
      ],
      "execution_count": 31,
      "outputs": []
    },
    {
      "cell_type": "code",
      "metadata": {
        "id": "kt6hMRUfLWmU"
      },
      "source": [
        "from sklearn.model_selection import train_test_split"
      ],
      "execution_count": 32,
      "outputs": []
    },
    {
      "cell_type": "code",
      "metadata": {
        "id": "5JEXAJQ1LeS4"
      },
      "source": [
        " X_train, X_test, y_train, y_test = train_test_split(X_train,Y, test_size=0.20, random_state=42)"
      ],
      "execution_count": 33,
      "outputs": []
    },
    {
      "cell_type": "code",
      "metadata": {
        "colab": {
          "base_uri": "https://localhost:8080/"
        },
        "id": "L0Zo-ZjrLqGw",
        "outputId": "b0168b69-9c73-4340-da60-8672ec12c553"
      },
      "source": [
        " X_train.shape, X_test.shape, y_train.shape, y_test.shape"
      ],
      "execution_count": 34,
      "outputs": [
        {
          "output_type": "execute_result",
          "data": {
            "text/plain": [
              "((9232, 38), (2309, 38), (9232,), (2309,))"
            ]
          },
          "metadata": {
            "tags": []
          },
          "execution_count": 34
        }
      ]
    },
    {
      "cell_type": "code",
      "metadata": {
        "id": "2UyS_hFkyF0P"
      },
      "source": [
        "np.save(path+'X_train.npy',X_train)"
      ],
      "execution_count": 34,
      "outputs": []
    },
    {
      "cell_type": "code",
      "metadata": {
        "id": "FeKbmER8yNcx"
      },
      "source": [
        "np.save(path+'X_test.npy',X_test)"
      ],
      "execution_count": 35,
      "outputs": []
    },
    {
      "cell_type": "code",
      "metadata": {
        "id": "TEDlZbNMyNbW"
      },
      "source": [
        "np.save(path+'Y_test.npy',y_test)"
      ],
      "execution_count": 36,
      "outputs": []
    },
    {
      "cell_type": "code",
      "metadata": {
        "id": "l-BzcIQ7yNYz"
      },
      "source": [
        "np.save(path+'Y_train.npy',y_train)"
      ],
      "execution_count": 37,
      "outputs": []
    },
    {
      "cell_type": "code",
      "metadata": {
        "colab": {
          "base_uri": "https://localhost:8080/"
        },
        "id": "UbOPqK99dAWF",
        "outputId": "685cac65-7907-42c6-c772-f6ae8c3c775c"
      },
      "source": [
        "hist = model.fit(x=X_train,y=y_train,batch_size=16,epochs=10)"
      ],
      "execution_count": 35,
      "outputs": [
        {
          "output_type": "stream",
          "text": [
            "Epoch 1/10\n",
            "577/577 [==============================] - 16s 12ms/step - loss: 0.4280 - accuracy: 0.8137\n",
            "Epoch 2/10\n",
            "577/577 [==============================] - 7s 12ms/step - loss: 0.2374 - accuracy: 0.9019\n",
            "Epoch 3/10\n",
            "577/577 [==============================] - 7s 13ms/step - loss: 0.1226 - accuracy: 0.9554\n",
            "Epoch 4/10\n",
            "577/577 [==============================] - 7s 13ms/step - loss: 0.0500 - accuracy: 0.9830\n",
            "Epoch 5/10\n",
            "577/577 [==============================] - 7s 13ms/step - loss: 0.0275 - accuracy: 0.9911\n",
            "Epoch 6/10\n",
            "577/577 [==============================] - 7s 13ms/step - loss: 0.0158 - accuracy: 0.9949\n",
            "Epoch 7/10\n",
            "577/577 [==============================] - 7s 13ms/step - loss: 0.0119 - accuracy: 0.9963\n",
            "Epoch 8/10\n",
            "577/577 [==============================] - 7s 13ms/step - loss: 0.0102 - accuracy: 0.9968\n",
            "Epoch 9/10\n",
            "577/577 [==============================] - 7s 13ms/step - loss: 0.0127 - accuracy: 0.9957\n",
            "Epoch 10/10\n",
            "577/577 [==============================] - 7s 13ms/step - loss: 0.0093 - accuracy: 0.9966\n"
          ],
          "name": "stdout"
        }
      ]
    },
    {
      "cell_type": "code",
      "metadata": {
        "colab": {
          "base_uri": "https://localhost:8080/"
        },
        "id": "Tc4sFPgOHjsl",
        "outputId": "29142780-6a22-4917-e065-8f4e78158e4e"
      },
      "source": [
        "model.evaluate(X_test[:2304],y_test[:2304],batch_size=16)"
      ],
      "execution_count": 36,
      "outputs": [
        {
          "output_type": "stream",
          "text": [
            "144/144 [==============================] - 1s 6ms/step - loss: 0.5407 - accuracy: 0.8932\n"
          ],
          "name": "stdout"
        },
        {
          "output_type": "execute_result",
          "data": {
            "text/plain": [
              "[0.5406525135040283, 0.8932291865348816]"
            ]
          },
          "metadata": {
            "tags": []
          },
          "execution_count": 36
        }
      ]
    },
    {
      "cell_type": "code",
      "metadata": {
        "id": "4eR07uVqmIwE"
      },
      "source": [
        "model.save_weights(path+'Stack_LSTM_model.h5')"
      ],
      "execution_count": 37,
      "outputs": []
    },
    {
      "cell_type": "code",
      "metadata": {
        "id": "MUF36cBoRCvR"
      },
      "source": [
        "def LSTM_model(dt1,embeddings=embeddings,batch_size=16):\r\n",
        "  layer2_1 = tf.keras.layers.Embedding(embeddings.shape[0],embeddings.shape[1],weights=[embeddings],batch_input_shape=[batch_size,None],trainable =False)\r\n",
        "\r\n",
        "  layer2 = tf.keras.layers.LSTM(512, return_sequences=True, recurrent_initializer='glorot_uniform',recurrent_activation='sigmoid',stateful=True)\r\n",
        "  \r\n",
        "  layer4 = tf.keras.layers.Dense(150,activation = 'sigmoid')\r\n",
        "  layer5 = tf.keras.layers.Dense(1,activation = 'sigmoid')\r\n",
        "  \r\n",
        "  layer1 = tf.keras.Input(shape=(None,),batch_size=batch_size)\r\n",
        "\r\n",
        "  out1 = layer2_1(layer1)\r\n",
        "  out2 = layer2(out1)\r\n",
        "\r\n",
        "  out3 = tf.keras.layers.GlobalMaxPooling1D()(out2)\r\n",
        "\r\n",
        "  out3 = layer4(out3)\r\n",
        "\r\n",
        "  out4 = layer5(out3)\r\n",
        "  return tf.keras.models.Model(inputs=layer1,outputs=out4)\r\n",
        "\r\n",
        "\r\n"
      ],
      "execution_count": 38,
      "outputs": []
    },
    {
      "cell_type": "code",
      "metadata": {
        "id": "Yq8R8FnJS7S2"
      },
      "source": [
        "model = LSTM_model(X_train[:150])"
      ],
      "execution_count": 39,
      "outputs": []
    },
    {
      "cell_type": "code",
      "metadata": {
        "id": "9rkDAdZMTI7t"
      },
      "source": [
        "model.compile('adam','binary_crossentropy','accuracy')"
      ],
      "execution_count": 40,
      "outputs": []
    },
    {
      "cell_type": "code",
      "metadata": {
        "colab": {
          "base_uri": "https://localhost:8080/"
        },
        "id": "LYRyBZc8TMdY",
        "outputId": "3a7fc0b3-201c-4dc1-f7f5-836c10221d4c"
      },
      "source": [
        "hist = model.fit(x=X_train,y=y_train,batch_size=16,epochs=10)"
      ],
      "execution_count": 41,
      "outputs": [
        {
          "output_type": "stream",
          "text": [
            "Epoch 1/10\n",
            "577/577 [==============================] - 5s 7ms/step - loss: 0.3783 - accuracy: 0.8459\n",
            "Epoch 2/10\n",
            "577/577 [==============================] - 4s 7ms/step - loss: 0.1692 - accuracy: 0.9395\n",
            "Epoch 3/10\n",
            "577/577 [==============================] - 4s 7ms/step - loss: 0.0434 - accuracy: 0.9879\n",
            "Epoch 4/10\n",
            "577/577 [==============================] - 4s 7ms/step - loss: 0.0133 - accuracy: 0.9983\n",
            "Epoch 5/10\n",
            "577/577 [==============================] - 4s 7ms/step - loss: 0.0057 - accuracy: 0.9992\n",
            "Epoch 6/10\n",
            "577/577 [==============================] - 4s 7ms/step - loss: 0.0081 - accuracy: 0.9990\n",
            "Epoch 7/10\n",
            "577/577 [==============================] - 4s 7ms/step - loss: 0.0060 - accuracy: 0.9985\n",
            "Epoch 8/10\n",
            "577/577 [==============================] - 4s 7ms/step - loss: 0.0421 - accuracy: 0.9849\n",
            "Epoch 9/10\n",
            "577/577 [==============================] - 4s 7ms/step - loss: 0.0111 - accuracy: 0.9961\n",
            "Epoch 10/10\n",
            "577/577 [==============================] - 4s 7ms/step - loss: 0.0040 - accuracy: 0.9992\n"
          ],
          "name": "stdout"
        }
      ]
    },
    {
      "cell_type": "code",
      "metadata": {
        "colab": {
          "base_uri": "https://localhost:8080/"
        },
        "id": "c9loMViUTPBe",
        "outputId": "79afeda7-70eb-4d4a-c554-c8ba8a9c3951"
      },
      "source": [
        "model.evaluate(X_test[:2304],y_test[:2304],batch_size=16)"
      ],
      "execution_count": 42,
      "outputs": [
        {
          "output_type": "stream",
          "text": [
            "144/144 [==============================] - 1s 3ms/step - loss: 0.5209 - accuracy: 0.8911\n"
          ],
          "name": "stdout"
        },
        {
          "output_type": "execute_result",
          "data": {
            "text/plain": [
              "[0.5209348201751709, 0.8910590410232544]"
            ]
          },
          "metadata": {
            "tags": []
          },
          "execution_count": 42
        }
      ]
    },
    {
      "cell_type": "code",
      "metadata": {
        "id": "niQmPSZDTR0C"
      },
      "source": [
        "model.save_weights(path+'LSTM_model.h5')"
      ],
      "execution_count": 43,
      "outputs": []
    }
  ]
}